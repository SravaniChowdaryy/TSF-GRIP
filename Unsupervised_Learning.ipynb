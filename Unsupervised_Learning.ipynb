{
  "nbformat": 4,
  "nbformat_minor": 0,
  "metadata": {
    "colab": {
      "name": "Unsupervised_Learning.ipynb",
      "private_outputs": true,
      "provenance": [],
      "authorship_tag": "ABX9TyMVcuEOxn2zvIDYnpaujsDT",
      "include_colab_link": true
    },
    "kernelspec": {
      "name": "python3",
      "display_name": "Python 3"
    },
    "language_info": {
      "name": "python"
    }
  },
  "cells": [
    {
      "cell_type": "markdown",
      "metadata": {
        "id": "view-in-github",
        "colab_type": "text"
      },
      "source": [
        "<a href=\"https://colab.research.google.com/github/SravaniChowdaryy/TSF-GRIP/blob/main/Unsupervised_Learning.ipynb\" target=\"_parent\"><img src=\"https://colab.research.google.com/assets/colab-badge.svg\" alt=\"Open In Colab\"/></a>"
      ]
    },
    {
      "cell_type": "markdown",
      "source": [
        "# GRIP: The Sparks Foundation"
      ],
      "metadata": {
        "id": "kX_L4Uheln6g"
      }
    },
    {
      "cell_type": "markdown",
      "source": [
        "# Data Science and Business Analytic Internship"
      ],
      "metadata": {
        "id": "os0lH-0qlsps"
      }
    },
    {
      "cell_type": "markdown",
      "source": [
        "## **Task 2: Prediction Using Unsupervised Learning**"
      ],
      "metadata": {
        "id": "LJtp-8bvlwCz"
      }
    },
    {
      "cell_type": "markdown",
      "source": [
        "***Importing the libraries***"
      ],
      "metadata": {
        "id": "hXoFo9Z4l6hc"
      }
    },
    {
      "cell_type": "code",
      "source": [
        "# Importing the libraries\n",
        "import numpy as np\n",
        "import matplotlib.pyplot as plt\n",
        "import pandas as pd\n",
        "import seaborn as sns\n",
        "%matplotlib inline"
      ],
      "metadata": {
        "id": "TidpTxfImAIn"
      },
      "execution_count": null,
      "outputs": []
    },
    {
      "cell_type": "markdown",
      "source": [
        "***Importing the dataset***"
      ],
      "metadata": {
        "id": "T_ch9kn0mtrl"
      }
    },
    {
      "cell_type": "code",
      "source": [
        "Iris =pd.read_csv('Iris.csv')"
      ],
      "metadata": {
        "id": "NCpvLapymRV7"
      },
      "execution_count": null,
      "outputs": []
    },
    {
      "cell_type": "code",
      "source": [
        "Iris"
      ],
      "metadata": {
        "id": "fsc6s5POmXhE"
      },
      "execution_count": null,
      "outputs": []
    },
    {
      "cell_type": "code",
      "source": [
        "Iris.describe()"
      ],
      "metadata": {
        "id": "8zHncHVamaBz"
      },
      "execution_count": null,
      "outputs": []
    },
    {
      "cell_type": "code",
      "source": [
        "Iris.info()"
      ],
      "metadata": {
        "id": "0XE3aWjdmfNC"
      },
      "execution_count": null,
      "outputs": []
    },
    {
      "cell_type": "code",
      "source": [
        "### Dividig this into Independent and dependent features\n",
        "x=Iris.iloc[:, [1,4]].values"
      ],
      "metadata": {
        "id": "dBArsa1FmgwP"
      },
      "execution_count": null,
      "outputs": []
    },
    {
      "cell_type": "markdown",
      "source": [
        "***Using the elbow method to find the optmimal number of clusters***"
      ],
      "metadata": {
        "id": "5Cdzpwfsm0KG"
      }
    },
    {
      "cell_type": "code",
      "source": [
        "from sklearn.cluster import KMeans\n",
        "wcss=[]\n",
        "for i in range(1, 11):\n",
        "    kmeans = KMeans(n_clusters = i, init ='k-means++', random_state =42) # We use k-means++ to avoid the random initialization trap\n",
        "    kmeans.fit(x)\n",
        "    wcss.append(kmeans.inertia_) # kmeans.inertia_ returns the WCSS value for an initialized cluster\n",
        "plt.plot(range(1, 11), wcss)\n",
        "plt.title('The elbow Method')\n",
        "plt.xlabel('Number of clusters')\n",
        "plt.ylabel('WCSS')\n",
        "plt.show()\n"
      ],
      "metadata": {
        "id": "D2OmFs15m5MP"
      },
      "execution_count": null,
      "outputs": []
    },
    {
      "cell_type": "code",
      "source": [
        "kmeans = KMeans(n_clusters = 3, init ='k-means++', random_state = 42)\n",
        "y_kmeans=kmeans.fit_predict(x)"
      ],
      "metadata": {
        "id": "GB-IgxW7nGPY"
      },
      "execution_count": null,
      "outputs": []
    },
    {
      "cell_type": "code",
      "source": [
        "print(y_kmeans)"
      ],
      "metadata": {
        "id": "k_5--RZ7nLJF"
      },
      "execution_count": null,
      "outputs": []
    },
    {
      "cell_type": "code",
      "source": [
        "plt.scatter(x[y_kmeans ==0, 0], x[y_kmeans==0, 1], s=100, c='pink', label ='Iris-setosa')\n",
        "plt.scatter(x[y_kmeans ==1, 0], x[y_kmeans==1, 1], s=100, c='blue', label ='Iris-versicolour')\n",
        "plt.scatter(x[y_kmeans ==2, 0], x[y_kmeans==2, 1], s=100, c='yellow', label ='Iris-virginica')\n",
        "plt.scatter(kmeans.cluster_centers_[:, 0], kmeans.cluster_centers_[:, 1], s=300, c='pink', label ='Centroids')\n",
        "plt.title('Cluster of Iris Data')\n",
        "plt.xlabel('Sepal Length', fontsize =18)\n",
        "plt.ylabel('Sepal Width', fontsize =18)\n",
        "plt.legend()\n",
        "plt.show()"
      ],
      "metadata": {
        "id": "ksZ8EIO8nMEC"
      },
      "execution_count": null,
      "outputs": []
    }
  ]
}