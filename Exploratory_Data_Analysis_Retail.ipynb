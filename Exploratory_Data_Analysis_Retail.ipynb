{
  "nbformat": 4,
  "nbformat_minor": 0,
  "metadata": {
    "colab": {
      "name": "Exploratory Data Analysis - Retail.ipynb",
      "private_outputs": true,
      "provenance": [],
      "collapsed_sections": [],
      "authorship_tag": "ABX9TyPfePllDD3pQcjrPHEFnohV",
      "include_colab_link": true
    },
    "kernelspec": {
      "name": "python3",
      "display_name": "Python 3"
    },
    "language_info": {
      "name": "python"
    }
  },
  "cells": [
    {
      "cell_type": "markdown",
      "metadata": {
        "id": "view-in-github",
        "colab_type": "text"
      },
      "source": [
        "<a href=\"https://colab.research.google.com/github/SravaniChowdaryy/TSF-GRIP/blob/main/Exploratory_Data_Analysis_Retail.ipynb\" target=\"_parent\"><img src=\"https://colab.research.google.com/assets/colab-badge.svg\" alt=\"Open In Colab\"/></a>"
      ]
    },
    {
      "cell_type": "markdown",
      "source": [
        "# Exploratory Data Analysis - Retail"
      ],
      "metadata": {
        "id": "1NKpOV2zuefg"
      }
    },
    {
      "cell_type": "code",
      "source": [
        "import pandas as pd\n",
        "import numpy as np \n",
        "import seaborn as sns\n",
        "import matplotlib.pyplot as plt\n",
        "\n",
        "import warnings\n",
        "warnings.filterwarnings('ignore')"
      ],
      "metadata": {
        "id": "ke1C2Elsujot"
      },
      "execution_count": null,
      "outputs": []
    },
    {
      "cell_type": "code",
      "source": [
        "df = pd.read_csv(\"SampleSuperstore.csv\")\n"
      ],
      "metadata": {
        "id": "MA4EIjw_upyd"
      },
      "execution_count": null,
      "outputs": []
    },
    {
      "cell_type": "markdown",
      "source": [
        "# Basic Data Insights"
      ],
      "metadata": {
        "id": "sfs28Lc4usUS"
      }
    },
    {
      "cell_type": "code",
      "source": [
        "df.sample(5)\n"
      ],
      "metadata": {
        "id": "46xjHiimuvhH"
      },
      "execution_count": null,
      "outputs": []
    },
    {
      "cell_type": "code",
      "source": [
        "df.head()"
      ],
      "metadata": {
        "id": "ye3w69vKuyhj"
      },
      "execution_count": null,
      "outputs": []
    },
    {
      "cell_type": "code",
      "source": [
        "df.tail()"
      ],
      "metadata": {
        "id": "haTLkMDsu3zX"
      },
      "execution_count": null,
      "outputs": []
    },
    {
      "cell_type": "code",
      "source": [
        "df.shape"
      ],
      "metadata": {
        "id": "CJuINOuDu5ON"
      },
      "execution_count": null,
      "outputs": []
    },
    {
      "cell_type": "code",
      "source": [
        "df.info()"
      ],
      "metadata": {
        "id": "HfAavPbju9X4"
      },
      "execution_count": null,
      "outputs": []
    },
    {
      "cell_type": "code",
      "source": [
        "df.describe()"
      ],
      "metadata": {
        "id": "7MkPeRbYvA7N"
      },
      "execution_count": null,
      "outputs": []
    },
    {
      "cell_type": "markdown",
      "source": [
        "# Number of unique values in each column"
      ],
      "metadata": {
        "id": "9aQta6slvLOD"
      }
    },
    {
      "cell_type": "code",
      "source": [
        "for i in df.columns:\n",
        "    print(i,len(df[i].unique()))\n"
      ],
      "metadata": {
        "id": "Hc4A8Q9xvELU"
      },
      "execution_count": null,
      "outputs": []
    },
    {
      "cell_type": "markdown",
      "source": [
        "# Check for null values"
      ],
      "metadata": {
        "id": "93VKc8lavUs0"
      }
    },
    {
      "cell_type": "code",
      "source": [
        "df.isnull().sum()"
      ],
      "metadata": {
        "id": "YYLSEiIVvRyZ"
      },
      "execution_count": null,
      "outputs": []
    },
    {
      "cell_type": "markdown",
      "source": [
        "# Data Visualization"
      ],
      "metadata": {
        "id": "zW9dhfVCvddj"
      }
    },
    {
      "cell_type": "code",
      "source": [
        "sns.pairplot(df)"
      ],
      "metadata": {
        "id": "FRik27CHvZg5"
      },
      "execution_count": null,
      "outputs": []
    },
    {
      "cell_type": "code",
      "source": [
        "fig,axes = plt.subplots(1,1,figsize=(12,7))\n",
        "sns.heatmap(df.corr())\n",
        "plt.show()"
      ],
      "metadata": {
        "id": "1Jzqpw0HviS7"
      },
      "execution_count": null,
      "outputs": []
    },
    {
      "cell_type": "code",
      "source": [
        "fig,axes = plt.subplots(1,2,figsize=(14,5))\n",
        "fig.suptitle(\"Total profit VS sales \")\n",
        "sns.barplot(data=df.groupby('Sub-Category')['Sales','Profit'].agg(sum),x='Sales',y='Profit',ax=axes[1])\n",
        "df.groupby('Sub-Category')['Sales','Profit'].agg(sum).plot(kind='bar',ax=axes[0])\n",
        "plt.xticks(rotation=90)\n",
        "plt.show()"
      ],
      "metadata": {
        "id": "2s2Wj-2WvllZ"
      },
      "execution_count": null,
      "outputs": []
    },
    {
      "cell_type": "code",
      "source": [
        "fig,axes = plt.subplots(1,2,figsize=(14,5))\n",
        "fig.suptitle(\"Total Sales VS Quantity \")\n",
        "sns.barplot(data=df.groupby('Sub-Category')['Sales','Quantity'].agg(sum),x='Sales',y='Quantity',ax=axes[1])\n",
        "df.groupby('Sub-Category')['Sales','Quantity'].agg(sum).plot(kind='bar',ax=axes[0])\n",
        "plt.xticks(rotation=90)\n",
        "plt.show()"
      ],
      "metadata": {
        "id": "M1HU5208vs6M"
      },
      "execution_count": null,
      "outputs": []
    },
    {
      "cell_type": "code",
      "source": [
        "fig,axes = plt.subplots(1,2,figsize=(14,5))\n",
        "df.groupby('Sub-Category')['Discount','Profit'].agg(sum).plot(kind='bar',ax=axes[0]).set_title('Discount & Profit Relation based on Sub-Category')\n",
        "df.groupby('Sub-Category')['Profit','Quantity'].agg(sum).plot(kind='bar',ax=axes[1]).set_title('Quantity & Profit Relation based on Sub-Category')\n",
        "plt.xticks(rotation=90)\n",
        "plt.show()"
      ],
      "metadata": {
        "id": "MItRKhfivuby"
      },
      "execution_count": null,
      "outputs": []
    },
    {
      "cell_type": "code",
      "source": [
        "fig,axes = plt.subplots(2,2,figsize=(16,8))\n",
        "fig.suptitle(\"Distribution plots\", fontsize=16)\n",
        "sns.distplot(df['Sales'],ax=axes[0,0])\n",
        "sns.distplot(df['Profit'],ax=axes[0,1])\n",
        "sns.distplot(df['Discount'],ax=axes[1,0])\n",
        "sns.distplot(df['Quantity'],ax=axes[1,1])\n",
        "plt.show()"
      ],
      "metadata": {
        "id": "uqdYELR9vz4g"
      },
      "execution_count": null,
      "outputs": []
    },
    {
      "cell_type": "code",
      "source": [
        "fig,axes = plt.subplots(2,2,figsize=(16,8))\n",
        "fig.suptitle(\"Sales with different shipping modes and Segments\", fontsize=16)\n",
        "sns.barplot(df['Ship Mode'],df['Sales'],ax=axes[0,0])\n",
        "sns.lineplot(df['Ship Mode'],df['Sales'],ax=axes[0,1])\n",
        "sns.barplot(df['Segment'],df['Sales'],ax=axes[1,0])\n",
        "sns.lineplot(df['Segment'],df['Sales'],ax=axes[1,1])\n",
        "plt.show()"
      ],
      "metadata": {
        "id": "SFYE818Tv1Ef"
      },
      "execution_count": null,
      "outputs": []
    },
    {
      "cell_type": "code",
      "source": [
        "fig,ax= plt.subplots(1,1,figsize=(12,7))\n",
        "sns.countplot(df['Quantity'],hue=df['Region'])\n",
        "plt.show()"
      ],
      "metadata": {
        "id": "VB8u8JL_v46M"
      },
      "execution_count": null,
      "outputs": []
    }
  ]
}