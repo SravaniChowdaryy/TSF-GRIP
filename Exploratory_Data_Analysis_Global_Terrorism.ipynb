{
  "nbformat": 4,
  "nbformat_minor": 0,
  "metadata": {
    "colab": {
      "name": "Exploratory Data Analysis - Global Terrorism.ipynb",
      "private_outputs": true,
      "provenance": [],
      "authorship_tag": "ABX9TyMPuMWePX1/aDwuEnr2l/Sf",
      "include_colab_link": true
    },
    "kernelspec": {
      "name": "python3",
      "display_name": "Python 3"
    },
    "language_info": {
      "name": "python"
    }
  },
  "cells": [
    {
      "cell_type": "markdown",
      "metadata": {
        "id": "view-in-github",
        "colab_type": "text"
      },
      "source": [
        "<a href=\"https://colab.research.google.com/github/SravaniChowdaryy/TSF-GRIP/blob/main/Exploratory_Data_Analysis_Global_Terrorism.ipynb\" target=\"_parent\"><img src=\"https://colab.research.google.com/assets/colab-badge.svg\" alt=\"Open In Colab\"/></a>"
      ]
    },
    {
      "cell_type": "markdown",
      "source": [
        "# Exploratory Data Analysis - Global Terrorism"
      ],
      "metadata": {
        "id": "9aMjyaH3xVrR"
      }
    },
    {
      "cell_type": "code",
      "execution_count": null,
      "metadata": {
        "id": "tdZIj05gxSC4"
      },
      "outputs": [],
      "source": [
        "import pandas as pd\n",
        "import numpy as np\n",
        "import seaborn as sns\n",
        "import matplotlib.pyplot as plt\n",
        "import plotly.express as px\n",
        "\n",
        "\n",
        "import warnings\n",
        "warnings.filterwarnings('ignore')\n"
      ]
    },
    {
      "cell_type": "code",
      "source": [
        "data = pd.read_csv(r\"globalterrorismdb_0718dist.csv\",encoding='latin1')\n"
      ],
      "metadata": {
        "id": "k3l1xYqFxpHo"
      },
      "execution_count": null,
      "outputs": []
    },
    {
      "cell_type": "code",
      "source": [
        "data.head()"
      ],
      "metadata": {
        "id": "dZWQd28IxsoK"
      },
      "execution_count": null,
      "outputs": []
    },
    {
      "cell_type": "code",
      "source": [
        "data.shape"
      ],
      "metadata": {
        "id": "RX8MNKHAxvcj"
      },
      "execution_count": null,
      "outputs": []
    },
    {
      "cell_type": "code",
      "source": [
        "nul=[]\n",
        "for i in data.columns:\n",
        "    if data[i].isna().sum() > 0:\n",
        "        nul.append(i)\n",
        "len(nul)"
      ],
      "metadata": {
        "id": "IJb8dgG-xyYz"
      },
      "execution_count": null,
      "outputs": []
    },
    {
      "cell_type": "code",
      "source": [
        "for i in nul:\n",
        "    data.drop(i,axis=1,inplace=True)  \n",
        "    \n",
        "data.shape"
      ],
      "metadata": {
        "id": "hD0tqz2lx1EN"
      },
      "execution_count": null,
      "outputs": []
    },
    {
      "cell_type": "code",
      "source": [
        "data.info()"
      ],
      "metadata": {
        "id": "-CBgZ_prx4Yd"
      },
      "execution_count": null,
      "outputs": []
    },
    {
      "cell_type": "code",
      "source": [
        "data.describe()"
      ],
      "metadata": {
        "id": "Ir_RJMryx7zb"
      },
      "execution_count": null,
      "outputs": []
    },
    {
      "cell_type": "markdown",
      "source": [
        "# Data Visualization"
      ],
      "metadata": {
        "id": "97xNwY63yC5h"
      }
    },
    {
      "cell_type": "code",
      "source": [
        "fig,ax = plt.subplots(1,1,figsize=(15,7))\n",
        "sns.heatmap(data.corr())\n",
        "plt.show()"
      ],
      "metadata": {
        "id": "6dJxQWGFx_hQ"
      },
      "execution_count": null,
      "outputs": []
    },
    {
      "cell_type": "code",
      "source": [
        "data.hist(figsize=(24,18))"
      ],
      "metadata": {
        "id": "dUQ73yPIyLNm"
      },
      "execution_count": null,
      "outputs": []
    },
    {
      "cell_type": "code",
      "source": [
        "fig,axes = plt.subplots(1,2,figsize=(15,5))\n",
        "data.groupby('attacktype1_txt')['suicide','success'].agg(sum).plot(kind='bar',ax=axes[0])\n",
        "data.groupby('property')['suicide','success'].agg(sum).plot(kind='bar',ax=axes[1])"
      ],
      "metadata": {
        "id": "oapynzIMyOXW"
      },
      "execution_count": null,
      "outputs": []
    },
    {
      "cell_type": "code",
      "source": [
        "sns.barplot(y=data['targtype1'], x=data['weaptype1'])"
      ],
      "metadata": {
        "id": "KJlqyz-syT3_"
      },
      "execution_count": null,
      "outputs": []
    },
    {
      "cell_type": "code",
      "source": [
        "fig,ax = plt.subplots(1,2,figsize=(15,7))\n",
        "sns.countplot(data.success,ax=ax[0])\n",
        "sns.countplot(data.vicinity,ax=ax[1])"
      ],
      "metadata": {
        "id": "RQZipNPzyW6k"
      },
      "execution_count": null,
      "outputs": []
    },
    {
      "cell_type": "code",
      "source": [
        "fig,ax = plt.subplots(1,1,figsize=(15,7))\n",
        "sns.countplot(data['iyear'],hue=data['success'])\n",
        "plt.xticks(rotation=90)\n",
        "plt.show()"
      ],
      "metadata": {
        "id": "ogMGdzd7yaeF"
      },
      "execution_count": null,
      "outputs": []
    },
    {
      "cell_type": "code",
      "source": [
        "dat = data.groupby(['country_txt'],as_index=False).count()"
      ],
      "metadata": {
        "id": "EDchkSpQydR4"
      },
      "execution_count": null,
      "outputs": []
    },
    {
      "cell_type": "markdown",
      "source": [
        "# Use of Pyplot to show this visualization"
      ],
      "metadata": {
        "id": "fGHi4oR7yhJe"
      }
    },
    {
      "cell_type": "code",
      "source": [
        "fig = px.choropleth(dat,locations='country_txt',locationmode='country names', \n",
        "                    color='success', hover_name='country', projection ='orthographic', \n",
        "                    title='Total number of attack', labels={'Year':'Attacks'})\n",
        "fig.show()"
      ],
      "metadata": {
        "id": "DhmN8tVfyeT1"
      },
      "execution_count": null,
      "outputs": []
    }
  ]
}